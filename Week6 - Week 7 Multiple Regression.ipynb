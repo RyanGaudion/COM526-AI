{
 "cells": [
  {
   "cell_type": "code",
   "execution_count": 58,
   "id": "92bd178c",
   "metadata": {},
   "outputs": [],
   "source": [
    "#import required libraries:\n",
    "import pandas as pd\n",
    "import numpy as np\n",
    "import matplotlib.pyplot as plt\n",
    "from sklearn import linear_model"
   ]
  },
  {
   "cell_type": "code",
   "execution_count": 61,
   "id": "bb4f491c",
   "metadata": {},
   "outputs": [
    {
     "data": {
      "text/html": [
       "<div>\n",
       "<style scoped>\n",
       "    .dataframe tbody tr th:only-of-type {\n",
       "        vertical-align: middle;\n",
       "    }\n",
       "\n",
       "    .dataframe tbody tr th {\n",
       "        vertical-align: top;\n",
       "    }\n",
       "\n",
       "    .dataframe thead th {\n",
       "        text-align: right;\n",
       "    }\n",
       "</style>\n",
       "<table border=\"1\" class=\"dataframe\">\n",
       "  <thead>\n",
       "    <tr style=\"text-align: right;\">\n",
       "      <th></th>\n",
       "      <th>MODELYEAR</th>\n",
       "      <th>MAKE</th>\n",
       "      <th>MODEL</th>\n",
       "      <th>VEHICLECLASS</th>\n",
       "      <th>ENGINESIZE</th>\n",
       "      <th>CYLINDERS</th>\n",
       "      <th>TRANSMISSION</th>\n",
       "      <th>FUELTYPE</th>\n",
       "      <th>FUELCONSUMPTION_CITY</th>\n",
       "      <th>FUELCONSUMPTION_HWY</th>\n",
       "      <th>FUELCONSUMPTION_COMB</th>\n",
       "      <th>FUELCONSUMPTION_COMB_MPG</th>\n",
       "      <th>CO2EMISSIONS</th>\n",
       "    </tr>\n",
       "  </thead>\n",
       "  <tbody>\n",
       "    <tr>\n",
       "      <th>0</th>\n",
       "      <td>2014</td>\n",
       "      <td>ACURA</td>\n",
       "      <td>ILX</td>\n",
       "      <td>COMPACT</td>\n",
       "      <td>2.0</td>\n",
       "      <td>4</td>\n",
       "      <td>AS5</td>\n",
       "      <td>Z</td>\n",
       "      <td>9.9</td>\n",
       "      <td>6.7</td>\n",
       "      <td>8.5</td>\n",
       "      <td>33</td>\n",
       "      <td>196</td>\n",
       "    </tr>\n",
       "    <tr>\n",
       "      <th>1</th>\n",
       "      <td>2014</td>\n",
       "      <td>ACURA</td>\n",
       "      <td>ILX</td>\n",
       "      <td>COMPACT</td>\n",
       "      <td>2.4</td>\n",
       "      <td>4</td>\n",
       "      <td>M6</td>\n",
       "      <td>Z</td>\n",
       "      <td>11.2</td>\n",
       "      <td>7.7</td>\n",
       "      <td>9.6</td>\n",
       "      <td>29</td>\n",
       "      <td>221</td>\n",
       "    </tr>\n",
       "    <tr>\n",
       "      <th>2</th>\n",
       "      <td>2014</td>\n",
       "      <td>ACURA</td>\n",
       "      <td>ILX HYBRID</td>\n",
       "      <td>COMPACT</td>\n",
       "      <td>1.5</td>\n",
       "      <td>4</td>\n",
       "      <td>AV7</td>\n",
       "      <td>Z</td>\n",
       "      <td>6.0</td>\n",
       "      <td>5.8</td>\n",
       "      <td>5.9</td>\n",
       "      <td>48</td>\n",
       "      <td>136</td>\n",
       "    </tr>\n",
       "    <tr>\n",
       "      <th>3</th>\n",
       "      <td>2014</td>\n",
       "      <td>ACURA</td>\n",
       "      <td>MDX 4WD</td>\n",
       "      <td>SUV - SMALL</td>\n",
       "      <td>3.5</td>\n",
       "      <td>6</td>\n",
       "      <td>AS6</td>\n",
       "      <td>Z</td>\n",
       "      <td>12.7</td>\n",
       "      <td>9.1</td>\n",
       "      <td>11.1</td>\n",
       "      <td>25</td>\n",
       "      <td>255</td>\n",
       "    </tr>\n",
       "    <tr>\n",
       "      <th>4</th>\n",
       "      <td>2014</td>\n",
       "      <td>ACURA</td>\n",
       "      <td>RDX AWD</td>\n",
       "      <td>SUV - SMALL</td>\n",
       "      <td>3.5</td>\n",
       "      <td>6</td>\n",
       "      <td>AS6</td>\n",
       "      <td>Z</td>\n",
       "      <td>12.1</td>\n",
       "      <td>8.7</td>\n",
       "      <td>10.6</td>\n",
       "      <td>27</td>\n",
       "      <td>244</td>\n",
       "    </tr>\n",
       "  </tbody>\n",
       "</table>\n",
       "</div>"
      ],
      "text/plain": [
       "   MODELYEAR   MAKE       MODEL VEHICLECLASS  ENGINESIZE  CYLINDERS  \\\n",
       "0       2014  ACURA         ILX      COMPACT         2.0          4   \n",
       "1       2014  ACURA         ILX      COMPACT         2.4          4   \n",
       "2       2014  ACURA  ILX HYBRID      COMPACT         1.5          4   \n",
       "3       2014  ACURA     MDX 4WD  SUV - SMALL         3.5          6   \n",
       "4       2014  ACURA     RDX AWD  SUV - SMALL         3.5          6   \n",
       "\n",
       "  TRANSMISSION FUELTYPE  FUELCONSUMPTION_CITY  FUELCONSUMPTION_HWY  \\\n",
       "0          AS5        Z                   9.9                  6.7   \n",
       "1           M6        Z                  11.2                  7.7   \n",
       "2          AV7        Z                   6.0                  5.8   \n",
       "3          AS6        Z                  12.7                  9.1   \n",
       "4          AS6        Z                  12.1                  8.7   \n",
       "\n",
       "   FUELCONSUMPTION_COMB  FUELCONSUMPTION_COMB_MPG  CO2EMISSIONS  \n",
       "0                   8.5                        33           196  \n",
       "1                   9.6                        29           221  \n",
       "2                   5.9                        48           136  \n",
       "3                  11.1                        25           255  \n",
       "4                  10.6                        27           244  "
      ]
     },
     "execution_count": 61,
     "metadata": {},
     "output_type": "execute_result"
    }
   ],
   "source": [
    "testColumn = 'FUELCONSUMPTION_HWY'\n",
    "data = pd.read_csv(r'.\\Data\\Fuel.csv')\n",
    "data.head()"
   ]
  },
  {
   "cell_type": "code",
   "execution_count": 62,
   "id": "5f189603",
   "metadata": {},
   "outputs": [],
   "source": [
    "columns = [\"FUELCONSUMPTION_HWY\", \"FUELCONSUMPTION_CITY\", \"ENGINESIZE\", \"FUELCONSUMPTION_COMB_MPG\", \"CO2EMISSIONS\", \"CYLINDERS\"]\n",
    "data = data.reindex(columns=columns)\n",
    "#Let's select some features to explore more:\n",
    "#data = data[[testColumn, 'CO2EMISSIONS']]"
   ]
  },
  {
   "cell_type": "code",
   "execution_count": 63,
   "id": "94392934",
   "metadata": {},
   "outputs": [
    {
     "data": {
      "image/png": "[encoded data removed]",
      "text/plain": [
       "<Figure size 432x288 with 1 Axes>"
      ]
     },
     "metadata": {
      "needs_background": "light"
     },
     "output_type": "display_data"
    }
   ],
   "source": [
    "# ENGINESIZE vs CO2EMISSIONS:\n",
    "plt.scatter(data[testColumn], data['CO2EMISSIONS'], color='blue')\n",
    "plt.xlabel(testColumn)\n",
    "plt.ylabel('CO2EMISSIONS')\n",
    "plt.show()"
   ]
  },
  {
   "cell_type": "code",
   "execution_count": 64,
   "id": "b5f2427f",
   "metadata": {},
   "outputs": [],
   "source": [
    "# Generating training & testing data from our data:\n",
    "# We are using 80% data for training\n",
    "train = data[:(int((len(data)*0.8)))]\n",
    "test = data[(int((len(data)*0.2))):]"
   ]
  },
  {
   "cell_type": "code",
   "execution_count": 68,
   "id": "ec0d921b",
   "metadata": {},
   "outputs": [
    {
     "name": "stdout",
     "output_type": "stream",
     "text": [
      "coefficients :  [[ 4.48168775  7.86400985 -1.25515041 -4.08365312  8.4165174 ]]\n",
      "Intercept :  [262.74874155]\n"
     ]
    }
   ],
   "source": [
    "# Modeling using sklearn package to model data:\n",
    "regr = linear_model.LinearRegression()\n",
    "train_x = np.array(train[[\"FUELCONSUMPTION_HWY\", \"ENGINESIZE\", \"FUELCONSUMPTION_CITY\", \"FUELCONSUMPTION_COMB_MPG\", \"CYLINDERS\"]])\n",
    "train_y = np.array(train[['CO2EMISSIONS']])\n",
    "regr.fit(train_x, train_y)\n",
    "\n",
    "# Coefficients\n",
    "print ('coefficients : ', regr.coef_) #Slope\n",
    "print ('Intercept : ', regr.intercept_) #Intercept\n",
    "\n",
    "#On graph this means\n",
    "# Y = 38.795x + 127.17"
   ]
  },
  {
   "cell_type": "code",
   "execution_count": 73,
   "id": "4725c370",
   "metadata": {},
   "outputs": [
    {
     "data": {
      "text/plain": [
       "Text(0, 0.5, 'Emission')"
      ]
     },
     "execution_count": 73,
     "metadata": {},
     "output_type": "execute_result"
    },
    {
     "data": {
      "image/png": "[encoded data removed]",
      "text/plain": [
       "<Figure size 432x288 with 1 Axes>"
      ]
     },
     "metadata": {
      "needs_background": "light"
     },
     "output_type": "display_data"
    }
   ],
   "source": [
    "# Plot the best fit line\n",
    "plt.scatter(train[testColumn], train['CO2EMISSIONS'], color='green')\n",
    "plt.plot(train_x, regr.coef_*train_x + regr.intercept_, '-r')\n",
    "plt.xlabel(testColumn)\n",
    "plt.ylabel('Emission')"
   ]
  },
  {
   "cell_type": "code",
   "execution_count": 74,
   "id": "d39ef23f",
   "metadata": {},
   "outputs": [],
   "source": [
    "# Predicting Values:\n",
    "# Function for predicting future values:\n",
    "def get_regression_predictions(input_features, intercept, slope):\n",
    "    predicted_values = input_features*slope + intercept\n",
    "    return predicted_values"
   ]
  },
  {
   "cell_type": "code",
   "execution_count": 75,
   "id": "44a95d57",
   "metadata": {},
   "outputs": [
    {
     "name": "stdout",
     "output_type": "stream",
     "text": [
      "Esimated Emission:  352.3824965835765\n"
     ]
    }
   ],
   "source": [
    "#Prediciting emission for future car:\n",
    "value_to_predict = 20\n",
    "estimated_emission = get_regression_predictions(value_to_predict, regr.intercept_[0], regr.coef_[0][0])\n",
    "print('Esimated Emission: ', estimated_emission)"
   ]
  },
  {
   "cell_type": "code",
   "execution_count": 76,
   "id": "8cac68d6",
   "metadata": {},
   "outputs": [],
   "source": [
    "# Checking various accuracy:\n",
    "from sklearn.metrics import r2_score\n",
    "test_x = np.array(test[[\"FUELCONSUMPTION_HWY\", \"ENGINESIZE\", \"FUELCONSUMPTION_CITY\", \"FUELCONSUMPTION_COMB_MPG\", \"CYLINDERS\"]])\n",
    "test_y = np.array(test[['CO2EMISSIONS']])\n",
    "predicted_test_y = regr.predict(test_x)"
   ]
  },
  {
   "cell_type": "code",
   "execution_count": 77,
   "id": "4232e587",
   "metadata": {},
   "outputs": [
    {
     "name": "stdout",
     "output_type": "stream",
     "text": [
      "Mean absolute error (MAE): 14.26\n",
      "Mean squared error (MSE): 470.76\n",
      "R2-score: 0.87\n"
     ]
    }
   ],
   "source": [
    "print(\"Mean absolute error (MAE): %.2f\" % np.mean(np.absolute(predicted_test_y - test_y)))\n",
    "print(\"Mean squared error (MSE): %.2f\" % np.mean((predicted_test_y - test_y) ** 2))\n",
    "print(\"R2-score: %.2f\" % r2_score(predicted_test_y, test_y))\n",
    "\n",
    "\n",
    "#MAE - Shows average error is 23.98\n",
    "#MSE - Shows mean squared error is 974.29\n",
    "\n",
    "#ENGINESIZE - 23.98 - 974.29 - 0.68\n",
    "#FUELCONSUMPTION_COMB - 21.75 - 871.78 - 0.73\n",
    "#FUELCONSUMPTION_COMB_MPG - 17.65 - 757.39 - 0.80\n",
    "\n",
    "# ---- Multiple Regression ----\n",
    "#\"FUELCONSUMPTION_HWY\", \"ENGINESIZE\" - 18.27, 625.96, 0.82\n",
    "# +FUELCONSUMPTION_CITY - 17.86, 598.62, 0.83\n",
    "# +FUELCONSUMPTION_COMB_MPG - 14.51, 484.62, 0.87\n",
    "# +CYLINDERS - 14.26, 470.76, 0.87"
   ]
  },
  {
   "cell_type": "code",
   "execution_count": null,
   "id": "1dc0281e",
   "metadata": {},
   "outputs": [],
   "source": []
  }
 ],
 "metadata": {
  "kernelspec": {
   "display_name": "Python 3 (ipykernel)",
   "language": "python",
   "name": "python3"
  },
  "language_info": {
   "codemirror_mode": {
    "name": "ipython",
    "version": 3
   },
   "file_extension": ".py",
   "mimetype": "text/x-python",
   "name": "python",
   "nbconvert_exporter": "python",
   "pygments_lexer": "ipython3",
   "version": "3.9.7"
  },
  "widgets": {
   "application/vnd.jupyter.widget-state+json": {
    "state": {},
    "version_major": 2,
    "version_minor": 0
   }
  }
 },
 "nbformat": 4,
 "nbformat_minor": 5
}
